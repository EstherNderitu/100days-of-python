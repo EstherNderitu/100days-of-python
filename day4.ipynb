{
 "cells": [
  {
   "cell_type": "markdown",
   "metadata": {},
   "source": [
    "# Python Classes /Objects\n",
    "class is the blueprint for creating objects.\n",
    "Objects are instances of a class, and a class defines the attributes and behaviors that its objects will have"
   ]
  },
  {
   "cell_type": "code",
   "execution_count": null,
   "metadata": {},
   "outputs": [],
   "source": [
    "class Firstclass:\n",
    "  x = 5"
   ]
  },
  {
   "cell_type": "code",
   "execution_count": 5,
   "metadata": {},
   "outputs": [
    {
     "name": "stdout",
     "output_type": "stream",
     "text": [
      "Name: Esther\n",
      " Age: 20\n"
     ]
    }
   ],
   "source": [
    "#Constructor\n",
    "#__init__ is the constructor method, called when an object is created. It initializes the instance variables\n",
    "\n",
    "class MyClass:\n",
    "    def __init__(self,name ,age):\n",
    "        # 'self' refers to the instance of the class\n",
    "        # It allows you to access and modify attributes of the instance\n",
    "        self.name = name\n",
    "        self.age = age\n",
    "\n",
    "    def display_info(self):\n",
    "        # Here, 'self' is used to access attributes of the instance\n",
    "        print(f\"Name: {self.name}\\n Age: {self.age}\")\n",
    "        \n",
    "# Taking user input for name and age\n",
    "name_input = input(\"Enter your name: \")\n",
    "age_input = int(input(\"Enter your age: \"))  # Convert input to an integer\n",
    "\n",
    "# Creating an instance of the class with user input\n",
    "my_instance = MyClass(name=name_input, age=age_input )\n",
    "\n",
    "# Calling a method on the instance\n",
    "my_instance.display_info()"
   ]
  },
  {
   "cell_type": "code",
   "execution_count": null,
   "metadata": {},
   "outputs": [],
   "source": []
  }
 ],
 "metadata": {
  "kernelspec": {
   "display_name": "myenv",
   "language": "python",
   "name": "python3"
  },
  "language_info": {
   "codemirror_mode": {
    "name": "ipython",
    "version": 3
   },
   "file_extension": ".py",
   "mimetype": "text/x-python",
   "name": "python",
   "nbconvert_exporter": "python",
   "pygments_lexer": "ipython3",
   "version": "3.10.13"
  }
 },
 "nbformat": 4,
 "nbformat_minor": 2
}
