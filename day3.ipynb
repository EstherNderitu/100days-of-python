{
 "cells": [
  {
   "cell_type": "markdown",
   "metadata": {},
   "source": [
    "# Functions\n",
    "A function is a block of code which only runs when it is called"
   ]
  },
  {
   "cell_type": "code",
   "execution_count": 27,
   "metadata": {},
   "outputs": [
    {
     "name": "stdout",
     "output_type": "stream",
     "text": [
      "Hello, \n",
      "I am  \n"
     ]
    }
   ],
   "source": [
    "#Ask user their name\n",
    "name = input (\"What's your name?\")\n",
    "#Say hello to user\n",
    "print(\"Hello,\",name)\n",
    "age=input(\"How old are you?\")\n",
    "print(\"I am\",age,name )"
   ]
  },
  {
   "cell_type": "code",
   "execution_count": 28,
   "metadata": {},
   "outputs": [
    {
     "name": "stdout",
     "output_type": "stream",
     "text": [
      "Welcome Back \n"
     ]
    }
   ],
   "source": [
    "#Creating a function\n",
    "def my_function():\n",
    "    name = input (\"What's your name?\")\n",
    "    print('Welcome Back '+ name)\n",
    "#Calling a function\n",
    "my_function()"
   ]
  },
  {
   "cell_type": "markdown",
   "metadata": {},
   "source": [
    "# Argument \n",
    "Messages can be passed into functions as arguments.\n",
    "A parameter is the variable listed inside the parentheses in the function definition.\n",
    "\n",
    "An argument is the value that is sent to the function when it is called.\n",
    "\n",
    "A function must be called with the correct number of arguements.if your function expects 2 arguements ,you have to call the function with 2 arguements , not more ,and not less.\n",
    "\n",
    "In the example below name is the parameter."
   ]
  },
  {
   "cell_type": "code",
   "execution_count": 29,
   "metadata": {},
   "outputs": [
    {
     "name": "stdout",
     "output_type": "stream",
     "text": [
      "bookshelf\n",
      "mantelshelf\n",
      "keyshelf\n"
     ]
    }
   ],
   "source": [
    "def my_function(name):\n",
    "  print(name + \"shelf\")\n",
    "\n",
    "my_function(\"book\")\n",
    "my_function(\"mantel\")\n",
    "my_function(\"key\")"
   ]
  },
  {
   "cell_type": "code",
   "execution_count": 30,
   "metadata": {},
   "outputs": [
    {
     "name": "stdout",
     "output_type": "stream",
     "text": [
      "bookshelf\n"
     ]
    }
   ],
   "source": [
    "def my_function(fname, lname):\n",
    "  print(fname + lname)\n",
    "\n",
    "my_function('book','shelf')"
   ]
  },
  {
   "cell_type": "code",
   "execution_count": 31,
   "metadata": {},
   "outputs": [
    {
     "name": "stdout",
     "output_type": "stream",
     "text": [
      "The tallest mountain is  Mt Everest\n"
     ]
    }
   ],
   "source": [
    "#Arbituary Arguments ,*args\n",
    "#If the number of arguments is unknown, add a * before the parameter name: \n",
    "def my_function(*mountains):\n",
    "  print(\"The tallest mountain is \" + mountains[1])\n",
    "\n",
    "my_function(\"Mt Suswa\", \" Mt Everest\", \"Mt Kenya\")"
   ]
  },
  {
   "cell_type": "code",
   "execution_count": 32,
   "metadata": {},
   "outputs": [
    {
     "name": "stdout",
     "output_type": "stream",
     "text": [
      "The tallest mountain  is  Mt Kenya\n"
     ]
    }
   ],
   "source": [
    "#Keyword arguements\n",
    "#You can also send arguments with the key = value syntax. Example below\n",
    "def my_function(mountain3, mountain2, mountain1):\n",
    "  print(\"The tallest mountain  is \" + mountain3)\n",
    "\n",
    "my_function(mountain1 = \"Mt Suswa\", mountain2 = \"Mt Everest\", mountain3 = \" Mt Kenya\")\n"
   ]
  },
  {
   "cell_type": "code",
   "execution_count": 33,
   "metadata": {},
   "outputs": [
    {
     "name": "stdout",
     "output_type": "stream",
     "text": [
      "His last name is Butler\n"
     ]
    }
   ],
   "source": [
    "#Arbitrary Keyword Arguments, **kwargs\n",
    "def my_function(**name):\n",
    "  print(\"His last name is \" + name[\"lname\"])\n",
    "\n",
    "my_function(fname = \"John\", lname = \"Butler\")\n"
   ]
  },
  {
   "cell_type": "code",
   "execution_count": 34,
   "metadata": {},
   "outputs": [
    {
     "name": "stdout",
     "output_type": "stream",
     "text": [
      "Subtraction: 34\n",
      "Subtraction: 222\n"
     ]
    }
   ],
   "source": [
    "#Default Parameter Value\n",
    "\n",
    "def subtract_numbers(a=234, b=456):\n",
    "   subtract = b - a\n",
    "   print(\"Subtraction:\", subtract)\n",
    "#Two Arguements\n",
    "subtract_numbers(56,90)\n",
    "#No arguements\n",
    "subtract_numbers()\n",
    "\n",
    "\n"
   ]
  },
  {
   "cell_type": "code",
   "execution_count": 35,
   "metadata": {},
   "outputs": [
    {
     "name": "stdout",
     "output_type": "stream",
     "text": [
      "15\n",
      "25\n",
      "45\n",
      "The result of 10 - 5 is: 5\n"
     ]
    }
   ],
   "source": [
    "#Return values\n",
    "#To let a function return a value, use the return statement.\n",
    "def my_function(x):\n",
    "  return 5 * x\n",
    "\n",
    "print(my_function(3))\n",
    "print(my_function(5))\n",
    "print(my_function(9))\n",
    "\n",
    "def subtract_numbers(a, b):\n",
    "    result = a - b\n",
    "    return result\n",
    "\n",
    "# Example usage:\n",
    "num1 = 10\n",
    "num2 = 5\n",
    "result = subtract_numbers(num1, num2)\n",
    "\n",
    "print(f'The result of {num1} - {num2} is: {result}')"
   ]
  },
  {
   "cell_type": "code",
   "execution_count": 36,
   "metadata": {},
   "outputs": [
    {
     "name": "stdout",
     "output_type": "stream",
     "text": [
      "3\n"
     ]
    }
   ],
   "source": [
    "def my_function(x, /):\n",
    "  print(x)\n",
    "\n",
    "my_function(3)"
   ]
  },
  {
   "cell_type": "markdown",
   "metadata": {},
   "source": [
    "# Recursion\n",
    "whre a defined function calls itself."
   ]
  },
  {
   "cell_type": "code",
   "execution_count": 37,
   "metadata": {},
   "outputs": [
    {
     "name": "stdout",
     "output_type": "stream",
     "text": [
      "The factorial of 5 is: 120\n"
     ]
    }
   ],
   "source": [
    "def factorial(n):\n",
    "    # Base case: factorial of 0 or 1 is 1\n",
    "    if n == 0 or n == 1:\n",
    "        return 1\n",
    "    else:\n",
    "        # Recursive case: n! = n * (n-1)!\n",
    "        return n * factorial(n - 1)\n",
    "\n",
    "# Example usage:\n",
    "number = 5\n",
    "result = factorial(number)\n",
    "print(f\"The factorial of {number} is: {result}\")"
   ]
  },
  {
   "cell_type": "code",
   "execution_count": 38,
   "metadata": {},
   "outputs": [
    {
     "name": "stdout",
     "output_type": "stream",
     "text": [
      "The 6th term of the Fibonacci sequence is: 8\n"
     ]
    }
   ],
   "source": [
    "\n",
    "def fibonacci(n):\n",
    "    # Base cases: Fibonacci of 0 is 0, and Fibonacci of 1 is 1\n",
    "    if n == 0:\n",
    "        return 0\n",
    "    elif n == 1:\n",
    "        return 1\n",
    "    else:\n",
    "        # Recursive case: Fibonacci(n) = Fibonacci(n-1) + Fibonacci(n-2)\n",
    "        return fibonacci(n - 1) + fibonacci(n - 2)\n",
    "\n",
    "# Example usage:\n",
    "term_number = 6\n",
    "result = fibonacci(term_number)\n",
    "print(f\"The {term_number}th term of the Fibonacci sequence is: {result}\")"
   ]
  },
  {
   "cell_type": "code",
   "execution_count": 39,
   "metadata": {},
   "outputs": [
    {
     "name": "stdout",
     "output_type": "stream",
     "text": [
      "Right-angled Triangle Pattern (height = 5):\n",
      "*****\n",
      "****\n",
      "***\n",
      "**\n",
      "*\n"
     ]
    }
   ],
   "source": [
    "def print_triangle(n):\n",
    "    if n > 0:\n",
    "        print('*' * n)  # Print a row with n asterisks\n",
    "        print_triangle(n - 1)  # Recursive call with decremented n\n",
    "\n",
    "# Example usage:\n",
    "triangle_height = 5\n",
    "print(f\"Right-angled Triangle Pattern (height = {triangle_height}):\")\n",
    "print_triangle(triangle_height)"
   ]
  },
  {
   "cell_type": "markdown",
   "metadata": {},
   "source": [
    "# Moddules\n",
    "Is a file containing a set of functions yo want to ncludde in your application.\n",
    "Create a module:\n",
    "To create a module just save the code you want in a file with the file extension .py\n",
    "For the example below I have used a module named mymodule.py.\n",
    "\n"
   ]
  },
  {
   "cell_type": "code",
   "execution_count": 40,
   "metadata": {},
   "outputs": [
    {
     "ename": "AttributeError",
     "evalue": "module 'mymodule' has no attribute 'add'",
     "output_type": "error",
     "traceback": [
      "\u001b[1;31m---------------------------------------------------------------------------\u001b[0m",
      "\u001b[1;31mAttributeError\u001b[0m                            Traceback (most recent call last)",
      "Cell \u001b[1;32mIn[40], line 5\u001b[0m\n\u001b[0;32m      1\u001b[0m \u001b[38;5;28;01mimport\u001b[39;00m \u001b[38;5;21;01mmymodule\u001b[39;00m\n\u001b[0;32m      3\u001b[0m \u001b[38;5;66;03m# Using functions from the mymodule module\u001b[39;00m\n\u001b[1;32m----> 5\u001b[0m resultadd \u001b[38;5;241m=\u001b[39m \u001b[43mmymodule\u001b[49m\u001b[38;5;241;43m.\u001b[39;49m\u001b[43madd\u001b[49m(\u001b[38;5;241m5\u001b[39m, \u001b[38;5;241m3\u001b[39m)\n\u001b[0;32m      6\u001b[0m resultsubtract \u001b[38;5;241m=\u001b[39m mymodule\u001b[38;5;241m.\u001b[39msubtract(\u001b[38;5;241m10\u001b[39m, \u001b[38;5;241m4\u001b[39m)\n\u001b[0;32m      7\u001b[0m resultmultiply \u001b[38;5;241m=\u001b[39m mymodule\u001b[38;5;241m.\u001b[39mmultiply(\u001b[38;5;241m2\u001b[39m, \u001b[38;5;241m6\u001b[39m)\n",
      "\u001b[1;31mAttributeError\u001b[0m: module 'mymodule' has no attribute 'add'"
     ]
    }
   ],
   "source": [
    "import mymodule\n",
    "\n",
    "# Using functions from the mymodule module\n",
    "\n",
    "resultadd = mymodule.add(5, 3)\n",
    "resultsubtract = mymodule.subtract(10, 4)\n",
    "resultmultiply = mymodule.multiply(2, 6)\n",
    "resultdivide = mymodule.divide(8, 2)\n",
    "\n",
    "# Displaying results\n",
    "\n",
    "print(f\"Addition: {resultadd}\")\n",
    "print(f\"Subtraction: {resultsubtract}\")\n",
    "print(f\"Multiplication: {resultmultiply}\")\n",
    "print(f\"Division: {resultdivide}\")"
   ]
  },
  {
   "cell_type": "code",
   "execution_count": null,
   "metadata": {},
   "outputs": [],
   "source": []
  }
 ],
 "metadata": {
  "kernelspec": {
   "display_name": "myenv",
   "language": "python",
   "name": "python3"
  },
  "language_info": {
   "codemirror_mode": {
    "name": "ipython",
    "version": 3
   },
   "file_extension": ".py",
   "mimetype": "text/x-python",
   "name": "python",
   "nbconvert_exporter": "python",
   "pygments_lexer": "ipython3",
   "version": "3.10.13"
  }
 },
 "nbformat": 4,
 "nbformat_minor": 2
}
