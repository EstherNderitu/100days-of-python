{
 "cells": [
  {
   "cell_type": "markdown",
   "metadata": {},
   "source": [
    "# Data Structures in Python\n",
    "They include :"
   ]
  },
  {
   "cell_type": "code",
   "execution_count": 20,
   "metadata": {},
   "outputs": [
    {
     "name": "stdout",
     "output_type": "stream",
     "text": [
      "[1, 2, 3, 4, 5]\n",
      "print mixed_list [1, 'two', 3.0, [4, 5]]\n",
      "3\n",
      "4\n",
      "Display the subset [2, 3, 4]\n",
      "[10, 2, 3, 4, 5]\n",
      "[10, 20, 30, 40, 5]\n",
      "5\n",
      "4\n",
      "elements are 10\n",
      "elements are 20\n",
      "elements are 30\n",
      "elements are 40\n",
      "elements are 5\n"
     ]
    }
   ],
   "source": [
    "#1.Lists\n",
    "my_list=[1,2,3,4,5]\n",
    "print(my_list)\n",
    "#Lists can contain elements of different types, including numbers, strings, or even other lists.\n",
    "\n",
    "mixed_list = [1, \"two\", 3.0, [4, 5]]\n",
    "print('print mixed_list', mixed_list)\n",
    "\n",
    "#You can access elements in a list using indexing. Python uses zero-based indexing.\n",
    "\n",
    "print(my_list[2])\n",
    "\n",
    "#In the given mixed_list, the element at index 3 is a nested list [4, 5]. To access the element 4 within this nested list, you can use double indexing. Here's how you can do it:\n",
    "mixed_list = [1, \"two\", 3.0, [4, 5]]\n",
    "\n",
    "# Accessing the nested list\n",
    "nested_list = mixed_list[3]\n",
    "\n",
    "# Accessing the element '4' within the nested list\n",
    "element_4 = nested_list[0]\n",
    "\n",
    "print(element_4)\n",
    "\n",
    "#You can extract a sublist (slice) from a list using slicing notation.\n",
    "subset = my_list[1:4]  \n",
    "print('Display the subset',subset)\n",
    "\n",
    "#Lists are mutable you can change their value.\n",
    "my_list[0] = 10\n",
    "print(my_list) \n",
    "#you can also modify multiple elements using slicing\n",
    "\n",
    "my_list[1:4] = [20, 30, 40]\n",
    "print(my_list)\n",
    "#To get the legnth  of the list\n",
    "length = len(my_list)\n",
    "print(length)\n",
    "mixedlength = len(mixed_list)\n",
    "print(mixedlength)\n",
    "\n",
    "for element in my_list:\n",
    "    print('elements are',element)"
   ]
  },
  {
   "cell_type": "code",
   "execution_count": 2,
   "metadata": {},
   "outputs": [
    {
     "name": "stdout",
     "output_type": "stream",
     "text": [
      "<class 'tuple'>\n"
     ]
    },
    {
     "data": {
      "text/plain": [
       "'apple'"
      ]
     },
     "execution_count": 2,
     "metadata": {},
     "output_type": "execute_result"
    }
   ],
   "source": [
    "#2.Tuples \n",
    "# are used to store multiple items in a single variable.\n",
    "mytuple = (\"apple\", \"banana\", \"cherry\")\n",
    "print(type(mytuple))\n",
    "\n",
    "mytuple[0]\n"
   ]
  },
  {
   "cell_type": "code",
   "execution_count": 6,
   "metadata": {},
   "outputs": [
    {
     "ename": "TypeError",
     "evalue": "'tuple' object does not support item assignment",
     "output_type": "error",
     "traceback": [
      "\u001b[1;31m---------------------------------------------------------------------------\u001b[0m",
      "\u001b[1;31mTypeError\u001b[0m                                 Traceback (most recent call last)",
      "Cell \u001b[1;32mIn[6], line 1\u001b[0m\n\u001b[1;32m----> 1\u001b[0m mytuple[\u001b[38;5;241m2\u001b[39m] \u001b[38;5;241m=\u001b[39m\u001b[38;5;241m56\u001b[39m\n",
      "\u001b[1;31mTypeError\u001b[0m: 'tuple' object does not support item assignment"
     ]
    }
   ],
   "source": [
    "mytuple[2] =56"
   ]
  },
  {
   "cell_type": "code",
   "execution_count": 8,
   "metadata": {},
   "outputs": [
    {
     "name": "stdout",
     "output_type": "stream",
     "text": [
      "(1, 2, 3, 4)\n",
      "(1, 2)\n",
      "(8, 9)\n",
      "(1, 2, 3, 4, 5, 6, 7, 8, 9)\n"
     ]
    }
   ],
   "source": [
    "# accessing tuple\n",
    "tuple = (1,2,3,4,5,6,7,8,9)\n",
    "\n",
    "print(tuple[0:4])\n",
    "\n",
    "print(tuple[:-7])\n",
    "\n",
    "print(tuple[7:])\n",
    "\n",
    "print(tuple[:])"
   ]
  },
  {
   "cell_type": "code",
   "execution_count": 22,
   "metadata": {},
   "outputs": [
    {
     "ename": "TypeError",
     "evalue": "'tuple' object is not callable",
     "output_type": "error",
     "traceback": [
      "\u001b[1;31m---------------------------------------------------------------------------\u001b[0m",
      "\u001b[1;31mTypeError\u001b[0m                                 Traceback (most recent call last)",
      "Cell \u001b[1;32mIn[22], line 5\u001b[0m\n\u001b[0;32m      3\u001b[0m y \u001b[38;5;241m=\u001b[39m \u001b[38;5;28mlist\u001b[39m(thistuple)\n\u001b[0;32m      4\u001b[0m y\u001b[38;5;241m.\u001b[39mappend(\u001b[38;5;124m\"\u001b[39m\u001b[38;5;124morange\u001b[39m\u001b[38;5;124m\"\u001b[39m)\n\u001b[1;32m----> 5\u001b[0m thistuple \u001b[38;5;241m=\u001b[39m \u001b[38;5;28;43mtuple\u001b[39;49m\u001b[43m(\u001b[49m\u001b[43my\u001b[49m\u001b[43m)\u001b[49m\n",
      "\u001b[1;31mTypeError\u001b[0m: 'tuple' object is not callable"
     ]
    }
   ],
   "source": [
    "\n",
    "thistuple = (\"apple\", \"banana\", \"cherry\")\n",
    "y = list(thistuple)\n",
    "y.append(\"orange\")\n",
    "thistuple = tuple(y)"
   ]
  },
  {
   "cell_type": "code",
   "execution_count": 26,
   "metadata": {},
   "outputs": [
    {
     "name": "stdout",
     "output_type": "stream",
     "text": [
      "('a', 'b', 'c', 1, 2, 3)\n"
     ]
    }
   ],
   "source": [
    "tuple1 = (\"a\", \"b\" , \"c\")\n",
    "tuple2 = (1, 2, 3)\n",
    "\n",
    "tuple3 = tuple1 + tuple2\n",
    "print(tuple3)"
   ]
  },
  {
   "cell_type": "code",
   "execution_count": 27,
   "metadata": {},
   "outputs": [
    {
     "name": "stdout",
     "output_type": "stream",
     "text": [
      "apple\n",
      "banana\n",
      "cherry\n"
     ]
    }
   ],
   "source": [
    "thistuple = (\"apple\", \"banana\", \"cherry\")\n",
    "for i in range(len(thistuple)):\n",
    "  print(thistuple[i])"
   ]
  },
  {
   "cell_type": "code",
   "execution_count": 28,
   "metadata": {},
   "outputs": [
    {
     "name": "stdout",
     "output_type": "stream",
     "text": [
      "apple\n",
      "banana\n",
      "cherry\n"
     ]
    }
   ],
   "source": [
    "thistuple = (\"apple\", \"banana\", \"cherry\")\n",
    "for x in thistuple:\n",
    "  print(x)"
   ]
  },
  {
   "cell_type": "code",
   "execution_count": 52,
   "metadata": {},
   "outputs": [
    {
     "name": "stdout",
     "output_type": "stream",
     "text": [
      "brand: Ford\n",
      "model: Mustang\n",
      "year: 1964\n",
      "3\n",
      "Mustang\n",
      "brand: Ford\n",
      "model: Mustang\n",
      "year: 1964\n",
      "wheels: 4\n"
     ]
    }
   ],
   "source": [
    "#Dictionaries\n",
    "car = {\n",
    "  \"brand\": \"Ford\",\n",
    "  \"model\": \"Mustang\",\n",
    "  \"year\": 1964\n",
    "}\n",
    "for key, value in car.items():\n",
    " print(f\"{key}: {value}\")\n",
    "\n",
    "print(len(car))\n",
    "\n",
    "#Get the value of the \"model\" key:\n",
    "x = car.get(\"model\")\n",
    "print(x)\n",
    "\n",
    "car[\"wheels\"] = 4\n",
    "for key, value in car.items():\n",
    " print(f\"{key}: {value}\")"
   ]
  },
  {
   "cell_type": "code",
   "execution_count": 41,
   "metadata": {},
   "outputs": [
    {
     "name": "stdout",
     "output_type": "stream",
     "text": [
      "3\n",
      "{'name': 'John', 'age': 90, 'country': 'Kenya', 'gender': 'Male'}\n"
     ]
    }
   ],
   "source": [
    "\n",
    "#The values in dictionary items can be of any data type.\n",
    "#Using the dict() method to make a dictionary:\n",
    "\n",
    "dict = dict(name = \"John\", age = 90, country = \"Kenya\", gender = \"Male\")\n",
    "print(dict)"
   ]
  },
  {
   "cell_type": "code",
   "execution_count": 54,
   "metadata": {},
   "outputs": [
    {
     "name": "stdout",
     "output_type": "stream",
     "text": [
      "dict_values(['Ford', 'Mustang', 1964, 4])\n"
     ]
    }
   ],
   "source": [
    "#use values() Get a list of the values:\n",
    "x = car.values()\n",
    "print(x)"
   ]
  },
  {
   "cell_type": "code",
   "execution_count": 56,
   "metadata": {},
   "outputs": [
    {
     "name": "stdout",
     "output_type": "stream",
     "text": [
      "dict_keys(['brand', 'model', 'year', 'wheels'])\n"
     ]
    }
   ],
   "source": [
    "#use keys() Get a list of the keys:\n",
    "\n",
    "x = car.keys()\n",
    "print(x)"
   ]
  },
  {
   "cell_type": "code",
   "execution_count": 62,
   "metadata": {},
   "outputs": [
    {
     "name": "stdout",
     "output_type": "stream",
     "text": [
      "{'apple', 'cherry', 'banana'}\n"
     ]
    }
   ],
   "source": [
    "#Sets\n",
    "thisset = {\"apple\", \"banana\", \"cherry\"}\n",
    "\n",
    "\n",
    "print(thisset)"
   ]
  },
  {
   "cell_type": "code",
   "execution_count": null,
   "metadata": {},
   "outputs": [],
   "source": []
  }
 ],
 "metadata": {
  "kernelspec": {
   "display_name": "myenv",
   "language": "python",
   "name": "python3"
  },
  "language_info": {
   "codemirror_mode": {
    "name": "ipython",
    "version": 3
   },
   "file_extension": ".py",
   "mimetype": "text/x-python",
   "name": "python",
   "nbconvert_exporter": "python",
   "pygments_lexer": "ipython3",
   "version": "3.10.13"
  }
 },
 "nbformat": 4,
 "nbformat_minor": 2
}
